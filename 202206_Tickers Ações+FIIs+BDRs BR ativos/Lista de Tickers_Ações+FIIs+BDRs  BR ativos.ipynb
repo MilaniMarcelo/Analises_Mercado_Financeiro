{
 "cells": [
  {
   "cell_type": "markdown",
   "id": "06871417",
   "metadata": {},
   "source": [
    "# Lista de Tickers das Ações+FIIs+BDRs BR ativos"
   ]
  },
  {
   "cell_type": "markdown",
   "id": "c0137503",
   "metadata": {},
   "source": [
    "<b>OBJETIVO: criar uma lista com os códigos (tickers) dos ativos financeiros negociados na Bolsa Brasileira (B3) e que estejam em atividade na data informada pelo usuário(a)."
   ]
  },
  {
   "cell_type": "markdown",
   "id": "ee300104",
   "metadata": {},
   "source": [
    "<b><i>*Utiliza a Base de Dados da Investing.com - Financial Markets Worldwide.</i></b> https://www.investing.com/"
   ]
  },
  {
   "cell_type": "markdown",
   "id": "4a9fc57c",
   "metadata": {},
   "source": [
    "<b><i>*NÃO contempla ETFs.</i></b>"
   ]
  },
  {
   "cell_type": "markdown",
   "id": "effb818a",
   "metadata": {},
   "source": [
    "<b><u>DADOS DE ENTRADA (INPUTS) - (PREENCHIMENTO DO USUÁRIO(A))"
   ]
  },
  {
   "cell_type": "code",
   "execution_count": 1,
   "id": "6d0a9c90",
   "metadata": {},
   "outputs": [],
   "source": [
    "#Informar a data desejada\n",
    "Data_Inicio = \"2022-06-27\"\n",
    "Data_Fim = \"2022-06-28\""
   ]
  },
  {
   "cell_type": "code",
   "execution_count": 2,
   "id": "38b9365c",
   "metadata": {},
   "outputs": [],
   "source": [
    "#Informar o caminho (local) onde deseja salvar o arquivo final (Tabela Final)\n",
    "Salvar_em = r\"C:\\Users\\momil\\OneDrive\\Gestão - Marcelo Milani\\Projetos Hobbies\\3. Mercado Financeiro\\202206_Tickers Ações+FIIs+BDRs BR ativos\""
   ]
  },
  {
   "cell_type": "markdown",
   "id": "06105fb8",
   "metadata": {},
   "source": [
    "<b><u>BIBLIOTECAS NECESSÁRIAS"
   ]
  },
  {
   "cell_type": "code",
   "execution_count": 3,
   "id": "a64db721",
   "metadata": {},
   "outputs": [],
   "source": [
    "#Biblioteca para análise e manipulação de dados\n",
    "import pandas as pd\n",
    "#Biblioteca para coletar dados do mercado financeiro a partir do site \"Investing.com\"\n",
    "import investpy\n",
    "#Biblioteca para acesso a informações de ativos financeiros do Yahoo Finance\n",
    "import yfinance as yf"
   ]
  },
  {
   "cell_type": "markdown",
   "id": "71126223",
   "metadata": {},
   "source": [
    "<b><u>IDENTIFICAR TODOS OS ATIVOS NA BASE DE DADOS"
   ]
  },
  {
   "cell_type": "code",
   "execution_count": 4,
   "id": "45de3346",
   "metadata": {},
   "outputs": [
    {
     "name": "stdout",
     "output_type": "stream",
     "text": [
      "Total de 749 ativos financeiros encontrados (Ações+FIIs+BDRs). Abaixo estão os 5 primeiros:\n"
     ]
    },
    {
     "data": {
      "text/html": [
       "<div>\n",
       "<style scoped>\n",
       "    .dataframe tbody tr th:only-of-type {\n",
       "        vertical-align: middle;\n",
       "    }\n",
       "\n",
       "    .dataframe tbody tr th {\n",
       "        vertical-align: top;\n",
       "    }\n",
       "\n",
       "    .dataframe thead th {\n",
       "        text-align: right;\n",
       "    }\n",
       "</style>\n",
       "<table border=\"1\" class=\"dataframe\">\n",
       "  <thead>\n",
       "    <tr style=\"text-align: right;\">\n",
       "      <th></th>\n",
       "      <th>country</th>\n",
       "      <th>name</th>\n",
       "      <th>full_name</th>\n",
       "      <th>isin</th>\n",
       "      <th>currency</th>\n",
       "      <th>symbol</th>\n",
       "    </tr>\n",
       "  </thead>\n",
       "  <tbody>\n",
       "    <tr>\n",
       "      <th>0</th>\n",
       "      <td>brazil</td>\n",
       "      <td>ABC BRASIL PN</td>\n",
       "      <td>Banco ABC Brasil SA</td>\n",
       "      <td>BRABCBACNPR4</td>\n",
       "      <td>BRL</td>\n",
       "      <td>ABCB4</td>\n",
       "    </tr>\n",
       "    <tr>\n",
       "      <th>1</th>\n",
       "      <td>brazil</td>\n",
       "      <td>BRASILAGRO ON</td>\n",
       "      <td>BrasilAgro - Co ON NM</td>\n",
       "      <td>BRAGROACNOR7</td>\n",
       "      <td>BRL</td>\n",
       "      <td>AGRO3</td>\n",
       "    </tr>\n",
       "    <tr>\n",
       "      <th>2</th>\n",
       "      <td>brazil</td>\n",
       "      <td>RUMO ON NM</td>\n",
       "      <td>RUMO Logistica Operadora Multimodal SA</td>\n",
       "      <td>BRRAILACNOR9</td>\n",
       "      <td>BRL</td>\n",
       "      <td>RAIL3</td>\n",
       "    </tr>\n",
       "    <tr>\n",
       "      <th>3</th>\n",
       "      <td>brazil</td>\n",
       "      <td>ALPARGATAS ON</td>\n",
       "      <td>Alpargatas SA</td>\n",
       "      <td>BRALPAACNOR0</td>\n",
       "      <td>BRL</td>\n",
       "      <td>ALPA3</td>\n",
       "    </tr>\n",
       "    <tr>\n",
       "      <th>4</th>\n",
       "      <td>brazil</td>\n",
       "      <td>ALPARGATAS PN</td>\n",
       "      <td>Alpargatas SA</td>\n",
       "      <td>BRALPAACNPR7</td>\n",
       "      <td>BRL</td>\n",
       "      <td>ALPA4</td>\n",
       "    </tr>\n",
       "  </tbody>\n",
       "</table>\n",
       "</div>"
      ],
      "text/plain": [
       "  country           name                               full_name  \\\n",
       "0  brazil  ABC BRASIL PN                     Banco ABC Brasil SA   \n",
       "1  brazil  BRASILAGRO ON                   BrasilAgro - Co ON NM   \n",
       "2  brazil     RUMO ON NM  RUMO Logistica Operadora Multimodal SA   \n",
       "3  brazil  ALPARGATAS ON                           Alpargatas SA   \n",
       "4  brazil  ALPARGATAS PN                           Alpargatas SA   \n",
       "\n",
       "           isin currency symbol  \n",
       "0  BRABCBACNPR4      BRL  ABCB4  \n",
       "1  BRAGROACNOR7      BRL  AGRO3  \n",
       "2  BRRAILACNOR9      BRL  RAIL3  \n",
       "3  BRALPAACNOR0      BRL  ALPA3  \n",
       "4  BRALPAACNPR7      BRL  ALPA4  "
      ]
     },
     "execution_count": 4,
     "metadata": {},
     "output_type": "execute_result"
    }
   ],
   "source": [
    "#Criar um DataFrme com os ativos brasileiros encontrados na base de dados\n",
    "df_StocksBR = pd.DataFrame(investpy.stocks.get_stocks(country=\"Brazil\"))\n",
    "#Exibir mensagem\n",
    "print(f\"Total de {len(df_StocksBR)} ativos financeiros encontrados (Ações+FIIs+BDRs). Abaixo estão os 5 primeiros:\")\n",
    "#Exibir 5 primeiras linhas\n",
    "df_StocksBR.head()"
   ]
  },
  {
   "cell_type": "markdown",
   "id": "0a1e8b39",
   "metadata": {},
   "source": [
    "<b><u>CRIAR VETOR COM OS CÓDIGOS DOS ATIVOS (TICKERS)"
   ]
  },
  {
   "cell_type": "code",
   "execution_count": 5,
   "id": "af68a458",
   "metadata": {},
   "outputs": [],
   "source": [
    "#Adicionar o texto \".SA\" ao final do ticker -> Necessário para coletar dados no Yahoo Finance\n",
    "df_StocksBR[\"Codigo_Ativo\"] = df_StocksBR[\"symbol\"] + \".SA\""
   ]
  },
  {
   "cell_type": "code",
   "execution_count": 6,
   "id": "ab9b601a",
   "metadata": {},
   "outputs": [],
   "source": [
    "#Vetor com os códigos dos ativos\n",
    "array_codigo_ativos = df_StocksBR[\"Codigo_Ativo\"].values"
   ]
  },
  {
   "cell_type": "markdown",
   "id": "d2e0f2e4",
   "metadata": {},
   "source": [
    "<b><u>COLETAR PREÇOS DOS ATIVOS NA DATA INFORMADA PELO USUÁRIO(A)"
   ]
  },
  {
   "cell_type": "code",
   "execution_count": 7,
   "id": "cd03a843",
   "metadata": {},
   "outputs": [
    {
     "name": "stderr",
     "output_type": "stream",
     "text": [
      "C:\\Users\\momil\\AppData\\Local\\Temp/ipykernel_19300/3604605315.py:5: PerformanceWarning: DataFrame is highly fragmented.  This is usually the result of calling `frame.insert` many times, which has poor performance.  Consider joining all columns at once using pd.concat(axis=1) instead.  To get a de-fragmented frame, use `newframe = frame.copy()`\n",
      "  Precos[ativo] = yf.download(ativo, start=Data_Inicio, end=Data_Fim, progress=False, show_errors=False)[\"Adj Close\"]\n"
     ]
    }
   ],
   "source": [
    "#DataFrame para armazenar preço dos ativos\n",
    "Precos = pd.DataFrame()\n",
    "#Coletar ativo por ativo\n",
    "for ativo in array_codigo_ativos:\n",
    "    Precos[ativo] = yf.download(ativo, start=Data_Inicio, end=Data_Fim, progress=False, show_errors=False)[\"Adj Close\"]"
   ]
  },
  {
   "cell_type": "markdown",
   "id": "efce769f",
   "metadata": {},
   "source": [
    "<b><u>ELIMINAR ATIVOS QUE NÃO POSSUEM COTAÇÃO NA DATA INFORMADA PELO USUÁRIO(A)"
   ]
  },
  {
   "cell_type": "code",
   "execution_count": 8,
   "id": "a7fa0db7",
   "metadata": {},
   "outputs": [],
   "source": [
    "#Ajustar DataFrame (Linha para Coluna)\n",
    "Precos = Precos.transpose().reset_index()"
   ]
  },
  {
   "cell_type": "code",
   "execution_count": 9,
   "id": "ea9be3ee",
   "metadata": {},
   "outputs": [],
   "source": [
    "#Renomear coluna com os códigos dos ativos\n",
    "Precos.rename(columns={\"index\":\"Codigo_Ativo\"}, inplace=True)"
   ]
  },
  {
   "cell_type": "code",
   "execution_count": 10,
   "id": "4ea2150b",
   "metadata": {},
   "outputs": [],
   "source": [
    "#Eliminar ativos sem cotação na data informada\n",
    "Precos.dropna(inplace=True)"
   ]
  },
  {
   "cell_type": "markdown",
   "id": "99e0c54c",
   "metadata": {},
   "source": [
    "<b><u>CRIAR TABELA FINAL COM OS ATIVOS"
   ]
  },
  {
   "cell_type": "code",
   "execution_count": 11,
   "id": "8eef6931",
   "metadata": {},
   "outputs": [],
   "source": [
    "#Eliminar o \".SA\" dos códigos dos ativos\n",
    "Precos[\"Codigo_Ativo\"] = Precos[\"Codigo_Ativo\"].apply(lambda x: x[:-3])\n",
    "#Eliminar possíveis espaços nas laterais\n",
    "Precos[\"Codigo_Ativo\"] = Precos[\"Codigo_Ativo\"].str.strip()"
   ]
  },
  {
   "cell_type": "code",
   "execution_count": 12,
   "id": "159afaa4",
   "metadata": {},
   "outputs": [],
   "source": [
    "#Criar DataFrame com as informações\n",
    "df_StocksBR_Final = pd.merge(Precos[\"Codigo_Ativo\"], df_StocksBR[[\"symbol\",\"name\",\"full_name\",\"country\"]],\n",
    "                             how=\"left\", left_on=\"Codigo_Ativo\", right_on=\"symbol\")"
   ]
  },
  {
   "cell_type": "code",
   "execution_count": 13,
   "id": "703c4fd8",
   "metadata": {},
   "outputs": [],
   "source": [
    "#Retirar possíveis duplicados\n",
    "df_StocksBR_Final = df_StocksBR_Final.drop_duplicates(subset=[\"Codigo_Ativo\"], keep=\"first\")\n",
    "#Excluir coluna \"symbol\"\n",
    "df_StocksBR_Final.drop(columns=\"symbol\", errors=\"ignore\", inplace=True)\n",
    "#Renomear colunas\n",
    "df_StocksBR_Final.rename(columns={\"name\":\"Nome_Ativo\", \"full_name\":\"Nome_Completo_Ativo\", \"country\":\"País\"}, inplace=True)"
   ]
  },
  {
   "cell_type": "code",
   "execution_count": 14,
   "id": "0606502e",
   "metadata": {},
   "outputs": [
    {
     "name": "stdout",
     "output_type": "stream",
     "text": [
      "Total de 594 ativos financeiros (Ações+FIIs+BDRs). Abaixo estão os 5 primeiros:\n"
     ]
    },
    {
     "data": {
      "text/html": [
       "<div>\n",
       "<style scoped>\n",
       "    .dataframe tbody tr th:only-of-type {\n",
       "        vertical-align: middle;\n",
       "    }\n",
       "\n",
       "    .dataframe tbody tr th {\n",
       "        vertical-align: top;\n",
       "    }\n",
       "\n",
       "    .dataframe thead th {\n",
       "        text-align: right;\n",
       "    }\n",
       "</style>\n",
       "<table border=\"1\" class=\"dataframe\">\n",
       "  <thead>\n",
       "    <tr style=\"text-align: right;\">\n",
       "      <th></th>\n",
       "      <th>Codigo_Ativo</th>\n",
       "      <th>Nome_Ativo</th>\n",
       "      <th>Nome_Completo_Ativo</th>\n",
       "      <th>País</th>\n",
       "    </tr>\n",
       "  </thead>\n",
       "  <tbody>\n",
       "    <tr>\n",
       "      <th>0</th>\n",
       "      <td>ABCB4</td>\n",
       "      <td>ABC BRASIL PN</td>\n",
       "      <td>Banco ABC Brasil SA</td>\n",
       "      <td>brazil</td>\n",
       "    </tr>\n",
       "    <tr>\n",
       "      <th>1</th>\n",
       "      <td>AGRO3</td>\n",
       "      <td>BRASILAGRO ON</td>\n",
       "      <td>BrasilAgro - Co ON NM</td>\n",
       "      <td>brazil</td>\n",
       "    </tr>\n",
       "    <tr>\n",
       "      <th>2</th>\n",
       "      <td>RAIL3</td>\n",
       "      <td>RUMO ON NM</td>\n",
       "      <td>RUMO Logistica Operadora Multimodal SA</td>\n",
       "      <td>brazil</td>\n",
       "    </tr>\n",
       "    <tr>\n",
       "      <th>3</th>\n",
       "      <td>ALPA3</td>\n",
       "      <td>ALPARGATAS ON</td>\n",
       "      <td>Alpargatas SA</td>\n",
       "      <td>brazil</td>\n",
       "    </tr>\n",
       "    <tr>\n",
       "      <th>4</th>\n",
       "      <td>ALPA4</td>\n",
       "      <td>ALPARGATAS PN</td>\n",
       "      <td>Alpargatas SA</td>\n",
       "      <td>brazil</td>\n",
       "    </tr>\n",
       "  </tbody>\n",
       "</table>\n",
       "</div>"
      ],
      "text/plain": [
       "  Codigo_Ativo     Nome_Ativo                     Nome_Completo_Ativo    País\n",
       "0        ABCB4  ABC BRASIL PN                     Banco ABC Brasil SA  brazil\n",
       "1        AGRO3  BRASILAGRO ON                   BrasilAgro - Co ON NM  brazil\n",
       "2        RAIL3     RUMO ON NM  RUMO Logistica Operadora Multimodal SA  brazil\n",
       "3        ALPA3  ALPARGATAS ON                           Alpargatas SA  brazil\n",
       "4        ALPA4  ALPARGATAS PN                           Alpargatas SA  brazil"
      ]
     },
     "execution_count": 14,
     "metadata": {},
     "output_type": "execute_result"
    }
   ],
   "source": [
    "#Exibir mensagem\n",
    "print(f\"Total de {len(df_StocksBR_Final)} ativos financeiros (Ações+FIIs+BDRs). Abaixo estão os 5 primeiros:\")\n",
    "#Exibir 5 primeiras linhas\n",
    "df_StocksBR_Final.head()"
   ]
  },
  {
   "cell_type": "markdown",
   "id": "9915ec6d",
   "metadata": {},
   "source": [
    "<b><u>GERAR E EXPORTAR EXCEL"
   ]
  },
  {
   "cell_type": "code",
   "execution_count": 15,
   "id": "e3dd6abf",
   "metadata": {},
   "outputs": [],
   "source": [
    "df_StocksBR_Final.to_excel(rf\"{Salvar_em}\\Lista de Ativos_Acoes_FII_BDR.xlsx\", index=False)"
   ]
  }
 ],
 "metadata": {
  "kernelspec": {
   "display_name": "py10",
   "language": "python",
   "name": "py10"
  },
  "language_info": {
   "codemirror_mode": {
    "name": "ipython",
    "version": 3
   },
   "file_extension": ".py",
   "mimetype": "text/x-python",
   "name": "python",
   "nbconvert_exporter": "python",
   "pygments_lexer": "ipython3",
   "version": "3.10.0"
  }
 },
 "nbformat": 4,
 "nbformat_minor": 5
}
