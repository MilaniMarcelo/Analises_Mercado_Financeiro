{
 "cells": [
  {
   "cell_type": "markdown",
   "id": "12595e46",
   "metadata": {},
   "source": [
    "# Distribuições de Probabilidade e os Retornos do Ibovespa"
   ]
  },
  {
   "cell_type": "markdown",
   "id": "fcd3d7fe",
   "metadata": {},
   "source": [
    "<b>OBJETIVO:</b>\n",
    "- Encontrar a distribuição de probabilidade que <b>melhor se ajusta ao comportamento dos retornos diários do Ibovespa</b> em diferentes períodos de tempo."
   ]
  },
  {
   "cell_type": "markdown",
   "id": "8163258c",
   "metadata": {},
   "source": [
    "<b>SUMÁRIO:</b>\n",
    "- [1. Bibliotecas necessárias](#TOPICO_1)\n",
    "- [2. Breve fundamentação teórica](#TOPICO_2)\n",
    "    - [2.1. Variáveis aleatórias e Processos estocásticos](#TOPICO_21)\n",
    "    - [2.2. Distribuições de Probabilidade](#TOPICO_22)\n",
    "- [3. Aplicação prática: Distribuições de Probabilidade e os Retornos do Ibovespa](#TOPICO_3)\n",
    "    - [3.1. Objetivo](#TOPICO_31)\n",
    "    - [3.2. Considerações e Premissas](#TOPICO_32)\n",
    "    - [3.3. Coletar dados do Ibovespa e calcular o Retorno diário](#TOPICO_33)\n",
    "    - [3.4. Estatística Descritiva do Retorno diário do Ibovespa para cada período analisado](#TOPICO_34)\n",
    "    - [3.5. Lista das Distribuições de Probabilidade utilizadas](#TOPICO_35)\n",
    "    - [3.6. Distribuição de Probabilidade do Retorno Diário do Ibovespa - Período: últimos 6 meses](#TOPICO_36)\n",
    "    - [3.7. Distribuição de Probabilidade do Retorno Diário do Ibovespa - Período: últimos 12 meses](#TOPICO_37)\n",
    "    - [3.8. Distribuição de Probabilidade do Retorno Diário do Ibovespa - Período: últimos 2 anos](#TOPICO_38)\n",
    "    - [3.9. Distribuição de Probabilidade do Retorno Diário do Ibovespa - Período: últimos 5 anos](#TOPICO_39)\n",
    "    - [3.10. Distribuição de Probabilidade do Retorno Diário do Ibovespa - Período: últimos 10 anos](#TOPICO_310)\n",
    "    - [3.11. Distribuição de Probabilidade do Retorno Diário do Ibovespa - Período: últimos 20 anos](#TOPICO_311)\n",
    "- [4. Considerações finais](#TOPICO_4)\n",
    "    - [4.1. Relação entre o tamanho da amostra e o ajuste das distribuições aos dados reais](#TOPICO_41)\n",
    "    - [4.2. Resultados das distribuições encontradas para os períodos analisados](#TOPICO_42)\n",
    "- [Referências](#referencias)"
   ]
  },
  {
   "cell_type": "markdown",
   "id": "d05a30de",
   "metadata": {},
   "source": [
    "# 1. Bibliotecas necessárias <a id='TOPICO_1'></a>"
   ]
  },
  {
   "cell_type": "code",
   "execution_count": 1,
   "id": "429c5f0c",
   "metadata": {},
   "outputs": [],
   "source": [
    "#Biblioteca para análises e manipulações de dados\n",
    "import pandas as pd\n",
    "#Biblioteca para extração de dados do Mercado Financeiro do Yahoo Finance\n",
    "import yfinance as yf\n",
    "#Biblioteca para trabalhar com datas\n",
    "from datetime import date\n",
    "from datetime import timedelta\n",
    "#Biblioteca para utilização de Distribuições de Probabilidade (derivada da Scipy)\n",
    "from fitter import Fitter, get_common_distributions, get_distributions\n",
    "#Biblioteca para criar gráficos\n",
    "import matplotlib.pyplot as plt"
   ]
  },
  {
   "cell_type": "markdown",
   "id": "034108db",
   "metadata": {},
   "source": [
    "# 2. Breve fundamentação teórica <a id='TOPICO_2'></a>"
   ]
  },
  {
   "cell_type": "markdown",
   "id": "4e47b268",
   "metadata": {},
   "source": [
    "<b>2.1. VARIÁVEIS ALEATÓRIAS E PROCESSOS ESTOCÁSTICOS <a id='TOPICO_21'></a>"
   ]
  },
  {
   "cell_type": "markdown",
   "id": "add0bf89",
   "metadata": {},
   "source": [
    "    Processo estocástico pode ser definido como uma variável que se comportam de maneira aleatória (parcial ou total). Essa sequência de aleatoriedade está associada ao tempo e/ou a ocorrência de determinados eventos.\n",
    "\n",
    "    Um processo estocástico pode ser categorizado como um processo em tempo discreto ou em tempo contínuo. Tempo discreto é composto por variáveis discretas onde os valores de tais variáveis se alteram em um determinado instante de tempo. Já o tempo contínuo é composto de variáveis contínuas onde os valores de tais variáveis se alteram a qualquer instante de tempo.\n",
    "    \n",
    "    Alguns exemplos de processos estocásticos:\n",
    "    1) Variação da temperatura de uma determinada cidade ao longo do tempo.\n",
    "    2) Preço de uma ação listada na B3 (Bolsa de valores do Brasil) ao longo do tempo.\n",
    "    3) Quantidade de pessoas que vão ao supermercado por dia."
   ]
  },
  {
   "cell_type": "markdown",
   "id": "c446e9ef",
   "metadata": {},
   "source": [
    "*Maiores detalhes a respeito do tema disponível no <b>Capítulo 3</b> da [[Referência 1]](#referencia1) e no <b>Capítulo 4</b> da [[Referência 2]](#referencia2)."
   ]
  },
  {
   "cell_type": "markdown",
   "id": "2cb0e6ca",
   "metadata": {},
   "source": [
    "<b>2.2. DISTRIBUIÇÕES DE PROBABILIDADE <a id='TOPICO_22'></a>"
   ]
  },
  {
   "cell_type": "markdown",
   "id": "35ec906d",
   "metadata": {},
   "source": [
    "    Sabendo da existência de processos estocásticos, as distribuições de probabilidade por sua vez descrevem o comportamento aleatório desses processos. Sendo assim, a distribuição de probabilidade que melhor se ajusta a uma variável aleatória \"X\" é, portanto, uma descrição das probabilidades relacionadas com os possíveis valores de \"X\".\n",
    "    \n",
    "    Como existem variáveis do tipo discreta e do tipo contínua, também existem distribuições de probabilidade para quando as variáveis são discretas e distribuições de probabilidade para quando as variáveis são contínuas. Seguem alguns exemplos:\n",
    "    \n",
    "    Distribuições de probabilidade para variáveis do tipo discreta:\n",
    "        - Distribuição de Bernoulli\n",
    "        - Distribuição Binomial\n",
    "        - Distribuição de Poisson\n",
    "        - Distribuição Geométrica\n",
    "    \n",
    "    Distribuições de probabilidade para variáveis do tipo contínua:\n",
    "        - Distribuição Uniforme\n",
    "        - Distribuição Exponencial\n",
    "        - Distribuição Normal\n",
    "        - Distribuição Lognormal\n",
    "        - Distribuição Gama\n",
    "        - Distribuição Beta\n",
    "        - Distribuição Weibull\n",
    "        - Distribuição Triangular"
   ]
  },
  {
   "cell_type": "markdown",
   "id": "5d5e50ea",
   "metadata": {},
   "source": [
    "*Detalhes matemáticos a respeito das distribuições de probablidade nas seguintes referências: [[Referência 3]](#referencia3) e [[Referência 4]](#referencia4)."
   ]
  },
  {
   "cell_type": "markdown",
   "id": "be6a931b",
   "metadata": {},
   "source": [
    "# 3. Aplicação prática: Distribuições de Probabilidade e os Retornos do Ibovespa <a id='TOPICO_3'></a>"
   ]
  },
  {
   "cell_type": "markdown",
   "id": "54c5abdc",
   "metadata": {},
   "source": [
    "<b>3.1. OBJETIVO <a id='TOPICO_31'></a>"
   ]
  },
  {
   "cell_type": "markdown",
   "id": "08e93afd",
   "metadata": {},
   "source": [
    "- Encontrar a distribuição de probabilidade que <b>melhor se ajusta ao comportamento dos retornos diários do Ibovespa</b> em diferentes períodos de tempo."
   ]
  },
  {
   "cell_type": "markdown",
   "id": "9c3552cb",
   "metadata": {},
   "source": [
    "<b>3.2. CONSIDERAÇÕES E PREMISSAS <a id='TOPICO_32'></a>"
   ]
  },
  {
   "cell_type": "markdown",
   "id": "87bebd58",
   "metadata": {},
   "source": [
    "- O estudo é feito usando a linguagem de programação <b>Python</b>.\n",
    "- É usado o <b>retorno diário</b> do Ibovespa, representado pela seguinte equação:\n",
    "\n",
    "$$ Retorno_{diario} = (\\frac{Cotacao_d}{Cotacao_{d-1}}-1)*100 $$\n",
    "\n",
    "- As janelas temporais consideradas são os últimos: <b>6 meses, 12 meses, 2 anos, 5 anos, 10 anos e 20 anos</b>.\n",
    "- O retorno diário do Ibovespa é uma <b>variável contínua</b>.\n",
    "- As distribuições de probabilidade consideradas são: <b>Uniforme, Exponencial, Normal, Lognormal, Gama, Beta e Triangular</b>.\n",
    "- É usado o método <b><i>SSE - Sum of squared errors</i></b> na determinação de qual distribuição de probabilidade melhor se ajusta ao comportamento do retorno diário do Ibovespa, em diferentes janelas temporais. Maiores detalhes em: [[Referência 5]](#referencia5)."
   ]
  },
  {
   "cell_type": "markdown",
   "id": "b1733335",
   "metadata": {},
   "source": [
    "<b>3.3. COLETAR DADOS DO IBOVESPA E CALCULAR O RETORNO DIÁRIO <a id='TOPICO_33'></a>"
   ]
  },
  {
   "cell_type": "markdown",
   "id": "003ba6b5",
   "metadata": {},
   "source": [
    "<b>Passo 1:</b> Definir as datas para os períodos desejados."
   ]
  },
  {
   "cell_type": "code",
   "execution_count": 2,
   "id": "5920c3e6",
   "metadata": {},
   "outputs": [],
   "source": [
    "#Data últimos 6 meses (180 dias)\n",
    "data_ult_6meses = date.today()-timedelta(180)\n",
    "#Data últimos 12 meses (365 dias)\n",
    "data_ult_12meses = date.today()-timedelta(365)\n",
    "#Data últimos 2 anos (730 dias)\n",
    "data_ult_2anos = date.today()-timedelta(730)\n",
    "#Data últimos 5 anos (1825 dias)\n",
    "data_ult_5anos = date.today()-timedelta(1825)\n",
    "#Data últimos 10 anos (3650 dias)\n",
    "data_ult_10anos = date.today()-timedelta(3650)\n",
    "#Data últimos 20 anos (7300 dias)\n",
    "data_ult_20anos = date.today()-timedelta(7300)"
   ]
  },
  {
   "cell_type": "markdown",
   "id": "879cb6e4",
   "metadata": {},
   "source": [
    "<b>Passo 2:</b> Função para coletar dados do Ibovespa e calcular o Retorno diário do período desejado."
   ]
  },
  {
   "cell_type": "code",
   "execution_count": 3,
   "id": "b3075760",
   "metadata": {},
   "outputs": [],
   "source": [
    "def f_retorno_diario(ativo, data_periodo):\n",
    "    #Coletar a Cotação do Ibovespa\n",
    "    df_IBOV = yf.download(ativo, start=data_periodo, end=date.today(), progress=False)\n",
    "    #Calcular o retorno diário do Ibovespa com base nos fechamentos diários\n",
    "    df_IBOV[\"Retorno_Diario\"] = df_IBOV[\"Close\"].pct_change(periods=1)\n",
    "    #Excluir valores NaN\n",
    "    df_IBOV.dropna(subset=[\"Retorno_Diario\"], inplace=True)\n",
    "    #Armazenar retornos diários do período em um vetor\n",
    "    vetor_retorno = df_IBOV[\"Retorno_Diario\"].values   \n",
    "    #Retornar vetor com os retornos diários\n",
    "    return vetor_retorno"
   ]
  },
  {
   "cell_type": "markdown",
   "id": "f49544fe",
   "metadata": {},
   "source": [
    "<b>Passo 3:</b> Calcular o vetor com os retornos diários do Ibovespa nos períodos desejados."
   ]
  },
  {
   "cell_type": "code",
   "execution_count": 4,
   "id": "d84924d7",
   "metadata": {},
   "outputs": [],
   "source": [
    "# \"^BVSP\" é a sigla do Índice Ibovespa no Yahoo Finance\n",
    "Retorno_6meses = f_retorno_diario(\"^BVSP\", data_ult_6meses)\n",
    "Retorno_12meses = f_retorno_diario(\"^BVSP\", data_ult_12meses)\n",
    "Retorno_2anos = f_retorno_diario(\"^BVSP\", data_ult_2anos)\n",
    "Retorno_5anos = f_retorno_diario(\"^BVSP\", data_ult_5anos)\n",
    "Retorno_10anos = f_retorno_diario(\"^BVSP\", data_ult_10anos)\n",
    "Retorno_20anos = f_retorno_diario(\"^BVSP\", data_ult_20anos)"
   ]
  },
  {
   "cell_type": "markdown",
   "id": "3d285ce4",
   "metadata": {},
   "source": [
    "<b>3.4. ESTATÍSTICA DESCRITIVA DO RETORNO DIÁRIO DO IBOVESPA PARA CADA PERÍODO ANALISADO <a id='TOPICO_34'></a>"
   ]
  },
  {
   "cell_type": "code",
   "execution_count": 5,
   "id": "d0d53115",
   "metadata": {},
   "outputs": [],
   "source": [
    "#Criar DataFrame com as estatísticas descritivas\n",
    "df_Retorno_6meses = pd.DataFrame(Retorno_6meses, columns=[\"Retorno_Últimos_6_meses\"]).describe()\n",
    "df_Retorno_12meses = pd.DataFrame(Retorno_12meses, columns=[\"Retorno_Últimos_12_meses\"]).describe()\n",
    "df_Retorno_2anos = pd.DataFrame(Retorno_2anos, columns=[\"Retorno_Últimos_2_anos\"]).describe()\n",
    "df_Retorno_5anos = pd.DataFrame(Retorno_5anos, columns=[\"Retorno_Últimos_5_anos\"]).describe()\n",
    "df_Retorno_10anos = pd.DataFrame(Retorno_10anos, columns=[\"Retorno_Últimos_10_anos\"]).describe()\n",
    "df_Retorno_20anos = pd.DataFrame(Retorno_20anos, columns=[\"Retorno_Últimos_20_anos\"]).describe()\n",
    "#Unir os DataFrames\n",
    "df_Estatisticas = pd.concat([df_Retorno_6meses,df_Retorno_12meses,df_Retorno_2anos,\n",
    "                             df_Retorno_5anos,df_Retorno_10anos,df_Retorno_20anos], axis=1)\n",
    "#Transpor o DataFrame\n",
    "df_Estatisticas = df_Estatisticas.transpose()\n",
    "#Renomear as colunas com as estatísticas\n",
    "df_Estatisticas.rename(columns={\"count\":\"Tamanho_Amostra\",\"mean\":\"Média\",\"std\":\"Desvio_padrão\",\"min\":\"Mínimo\",\n",
    "                                \"25%\":\"1º_Quartil\",\"50%\":\"Mediana\",\"75%\":\"3º_Quartil\",\"max\":\"Máximo\"}, inplace=True)"
   ]
  },
  {
   "cell_type": "code",
   "execution_count": 6,
   "id": "db8cc649",
   "metadata": {},
   "outputs": [
    {
     "name": "stdout",
     "output_type": "stream",
     "text": [
      "\u001b[1m*OS VALORES DAS ESTATÍSTICAS DO RETORNO DIÁRIO DO IBOVESPA ESTÃO EM DECIMAL!\n",
      "\n"
     ]
    },
    {
     "data": {
      "text/html": [
       "<div>\n",
       "<style scoped>\n",
       "    .dataframe tbody tr th:only-of-type {\n",
       "        vertical-align: middle;\n",
       "    }\n",
       "\n",
       "    .dataframe tbody tr th {\n",
       "        vertical-align: top;\n",
       "    }\n",
       "\n",
       "    .dataframe thead th {\n",
       "        text-align: right;\n",
       "    }\n",
       "</style>\n",
       "<table border=\"1\" class=\"dataframe\">\n",
       "  <thead>\n",
       "    <tr style=\"text-align: right;\">\n",
       "      <th></th>\n",
       "      <th>Tamanho_Amostra</th>\n",
       "      <th>Média</th>\n",
       "      <th>Desvio_padrão</th>\n",
       "      <th>Mínimo</th>\n",
       "      <th>1º_Quartil</th>\n",
       "      <th>Mediana</th>\n",
       "      <th>3º_Quartil</th>\n",
       "      <th>Máximo</th>\n",
       "    </tr>\n",
       "  </thead>\n",
       "  <tbody>\n",
       "    <tr>\n",
       "      <th>Retorno_Últimos_6_meses</th>\n",
       "      <td>123.0</td>\n",
       "      <td>-0.000385</td>\n",
       "      <td>0.011867</td>\n",
       "      <td>-0.029006</td>\n",
       "      <td>-0.006793</td>\n",
       "      <td>-0.000009</td>\n",
       "      <td>0.007543</td>\n",
       "      <td>0.024253</td>\n",
       "    </tr>\n",
       "    <tr>\n",
       "      <th>Retorno_Últimos_12_meses</th>\n",
       "      <td>249.0</td>\n",
       "      <td>-0.000475</td>\n",
       "      <td>0.012739</td>\n",
       "      <td>-0.037805</td>\n",
       "      <td>-0.008129</td>\n",
       "      <td>-0.000069</td>\n",
       "      <td>0.007985</td>\n",
       "      <td>0.036626</td>\n",
       "    </tr>\n",
       "    <tr>\n",
       "      <th>Retorno_Últimos_2_anos</th>\n",
       "      <td>495.0</td>\n",
       "      <td>0.000144</td>\n",
       "      <td>0.012951</td>\n",
       "      <td>-0.051201</td>\n",
       "      <td>-0.007668</td>\n",
       "      <td>0.000428</td>\n",
       "      <td>0.008776</td>\n",
       "      <td>0.036626</td>\n",
       "    </tr>\n",
       "    <tr>\n",
       "      <th>Retorno_Últimos_5_anos</th>\n",
       "      <td>1235.0</td>\n",
       "      <td>0.000503</td>\n",
       "      <td>0.016814</td>\n",
       "      <td>-0.147797</td>\n",
       "      <td>-0.007459</td>\n",
       "      <td>0.000608</td>\n",
       "      <td>0.009445</td>\n",
       "      <td>0.139082</td>\n",
       "    </tr>\n",
       "    <tr>\n",
       "      <th>Retorno_Últimos_10_anos</th>\n",
       "      <td>2471.0</td>\n",
       "      <td>0.000371</td>\n",
       "      <td>0.015759</td>\n",
       "      <td>-0.147797</td>\n",
       "      <td>-0.008129</td>\n",
       "      <td>0.000342</td>\n",
       "      <td>0.009039</td>\n",
       "      <td>0.139082</td>\n",
       "    </tr>\n",
       "    <tr>\n",
       "      <th>Retorno_Últimos_20_anos</th>\n",
       "      <td>4946.0</td>\n",
       "      <td>0.000634</td>\n",
       "      <td>0.017374</td>\n",
       "      <td>-0.147797</td>\n",
       "      <td>-0.008491</td>\n",
       "      <td>0.000854</td>\n",
       "      <td>0.010208</td>\n",
       "      <td>0.146560</td>\n",
       "    </tr>\n",
       "  </tbody>\n",
       "</table>\n",
       "</div>"
      ],
      "text/plain": [
       "                          Tamanho_Amostra     Média  Desvio_padrão    Mínimo  \\\n",
       "Retorno_Últimos_6_meses             123.0 -0.000385       0.011867 -0.029006   \n",
       "Retorno_Últimos_12_meses            249.0 -0.000475       0.012739 -0.037805   \n",
       "Retorno_Últimos_2_anos              495.0  0.000144       0.012951 -0.051201   \n",
       "Retorno_Últimos_5_anos             1235.0  0.000503       0.016814 -0.147797   \n",
       "Retorno_Últimos_10_anos            2471.0  0.000371       0.015759 -0.147797   \n",
       "Retorno_Últimos_20_anos            4946.0  0.000634       0.017374 -0.147797   \n",
       "\n",
       "                          1º_Quartil   Mediana  3º_Quartil    Máximo  \n",
       "Retorno_Últimos_6_meses    -0.006793 -0.000009    0.007543  0.024253  \n",
       "Retorno_Últimos_12_meses   -0.008129 -0.000069    0.007985  0.036626  \n",
       "Retorno_Últimos_2_anos     -0.007668  0.000428    0.008776  0.036626  \n",
       "Retorno_Últimos_5_anos     -0.007459  0.000608    0.009445  0.139082  \n",
       "Retorno_Últimos_10_anos    -0.008129  0.000342    0.009039  0.139082  \n",
       "Retorno_Últimos_20_anos    -0.008491  0.000854    0.010208  0.146560  "
      ]
     },
     "execution_count": 6,
     "metadata": {},
     "output_type": "execute_result"
    }
   ],
   "source": [
    "#Exibir estatísticas\n",
    "print(\"\\033[1m\"+\"*OS VALORES DAS ESTATÍSTICAS DO RETORNO DIÁRIO DO IBOVESPA ESTÃO EM DECIMAL!\\n\")\n",
    "df_Estatisticas"
   ]
  },
  {
   "cell_type": "markdown",
   "id": "d745a75c",
   "metadata": {},
   "source": [
    "<b>3.5. LISTA DAS DISTRIBUIÇÕES DE PROBABILIDADE UTILIZADAS <a id='TOPICO_35'></a>"
   ]
  },
  {
   "cell_type": "markdown",
   "id": "690b3b11",
   "metadata": {},
   "source": [
    "<b>Passo 1:</b> Criar a lista com as distribuições. Usar o comando <b>\"get_distributions()\" da biblioteca \"fitter\"</b> para encontrar o nome correto das distribuições."
   ]
  },
  {
   "cell_type": "code",
   "execution_count": 7,
   "id": "bd8f1191",
   "metadata": {
    "scrolled": false
   },
   "outputs": [],
   "source": [
    "Lista_Distribuicoes = [\"uniform\",\"expon\",\"norm\",\"lognorm\",\"gamma\",\"beta\",\"triang\"]"
   ]
  },
  {
   "cell_type": "markdown",
   "id": "d7c0b4ea",
   "metadata": {},
   "source": [
    "<b>3.6. DISTRIBUIÇÃO DE PROBABILIDADE DO RETORNO DIÁRIO DO IBOVESPA - PERÍODO: ÚLTIMOS 6 MESES <a id='TOPICO_36'></a>"
   ]
  },
  {
   "cell_type": "markdown",
   "id": "9ce2a8f3",
   "metadata": {},
   "source": [
    "<b>Passo 1:</b> Calcular e Comparar os valores teóricos das distribuições de probabilidade com os valores reais. <b>OBS:</b> a função \"Fitter\" ordena as distribuições da que mais se ajusta para a que menos se ajusta, com base no \"sumsquare_error\"."
   ]
  },
  {
   "cell_type": "code",
   "execution_count": 8,
   "id": "c488ccab",
   "metadata": {},
   "outputs": [
    {
     "data": {
      "text/html": [
       "<div>\n",
       "<style scoped>\n",
       "    .dataframe tbody tr th:only-of-type {\n",
       "        vertical-align: middle;\n",
       "    }\n",
       "\n",
       "    .dataframe tbody tr th {\n",
       "        vertical-align: top;\n",
       "    }\n",
       "\n",
       "    .dataframe thead th {\n",
       "        text-align: right;\n",
       "    }\n",
       "</style>\n",
       "<table border=\"1\" class=\"dataframe\">\n",
       "  <thead>\n",
       "    <tr style=\"text-align: right;\">\n",
       "      <th></th>\n",
       "      <th>sumsquare_error</th>\n",
       "      <th>aic</th>\n",
       "      <th>bic</th>\n",
       "      <th>kl_div</th>\n",
       "    </tr>\n",
       "  </thead>\n",
       "  <tbody>\n",
       "    <tr>\n",
       "      <th>norm</th>\n",
       "      <td>35523.331857</td>\n",
       "      <td>-527.785731</td>\n",
       "      <td>706.512927</td>\n",
       "      <td>inf</td>\n",
       "    </tr>\n",
       "    <tr>\n",
       "      <th>lognorm</th>\n",
       "      <td>35553.116324</td>\n",
       "      <td>-525.991989</td>\n",
       "      <td>711.428198</td>\n",
       "      <td>inf</td>\n",
       "    </tr>\n",
       "    <tr>\n",
       "      <th>gamma</th>\n",
       "      <td>35743.608001</td>\n",
       "      <td>-525.840600</td>\n",
       "      <td>712.085466</td>\n",
       "      <td>inf</td>\n",
       "    </tr>\n",
       "    <tr>\n",
       "      <th>triang</th>\n",
       "      <td>35819.304916</td>\n",
       "      <td>-547.037794</td>\n",
       "      <td>712.345677</td>\n",
       "      <td>inf</td>\n",
       "    </tr>\n",
       "    <tr>\n",
       "      <th>beta</th>\n",
       "      <td>35964.998596</td>\n",
       "      <td>-537.244554</td>\n",
       "      <td>717.657144</td>\n",
       "      <td>inf</td>\n",
       "    </tr>\n",
       "    <tr>\n",
       "      <th>uniform</th>\n",
       "      <td>45139.826231</td>\n",
       "      <td>-582.518634</td>\n",
       "      <td>735.980678</td>\n",
       "      <td>inf</td>\n",
       "    </tr>\n",
       "    <tr>\n",
       "      <th>expon</th>\n",
       "      <td>59644.605432</td>\n",
       "      <td>-520.640470</td>\n",
       "      <td>770.253248</td>\n",
       "      <td>inf</td>\n",
       "    </tr>\n",
       "  </tbody>\n",
       "</table>\n",
       "</div>"
      ],
      "text/plain": [
       "         sumsquare_error         aic         bic  kl_div\n",
       "norm        35523.331857 -527.785731  706.512927     inf\n",
       "lognorm     35553.116324 -525.991989  711.428198     inf\n",
       "gamma       35743.608001 -525.840600  712.085466     inf\n",
       "triang      35819.304916 -547.037794  712.345677     inf\n",
       "beta        35964.998596 -537.244554  717.657144     inf\n",
       "uniform     45139.826231 -582.518634  735.980678     inf\n",
       "expon       59644.605432 -520.640470  770.253248     inf"
      ]
     },
     "execution_count": 8,
     "metadata": {},
     "output_type": "execute_result"
    },
    {
     "data": {
      "image/png": "[encoded data removed]",
      "text/plain": [
       "<Figure size 432x288 with 1 Axes>"
      ]
     },
     "metadata": {
      "needs_background": "light"
     },
     "output_type": "display_data"
    }
   ],
   "source": [
    "distribuicao_ult_6meses = Fitter(data=Retorno_6meses, distributions=Lista_Distribuicoes)\n",
    "distribuicao_ult_6meses.fit()\n",
    "distribuicao_ult_6meses.summary(Nbest=7)"
   ]
  },
  {
   "cell_type": "markdown",
   "id": "dc588426",
   "metadata": {},
   "source": [
    "<b>Passo 2:</b> Encontrar a distribuição de probabilidade que melhor se ajusta aos valores reais."
   ]
  },
  {
   "cell_type": "code",
   "execution_count": 9,
   "id": "d0911014",
   "metadata": {},
   "outputs": [
    {
     "name": "stdout",
     "output_type": "stream",
     "text": [
      "\u001b[1mDataFrame com a distribuição que melhor se ajusta aos dados reais e seus respectivos parâmetros:\n"
     ]
    },
    {
     "data": {
      "text/html": [
       "<div>\n",
       "<style scoped>\n",
       "    .dataframe tbody tr th:only-of-type {\n",
       "        vertical-align: middle;\n",
       "    }\n",
       "\n",
       "    .dataframe tbody tr th {\n",
       "        vertical-align: top;\n",
       "    }\n",
       "\n",
       "    .dataframe thead th {\n",
       "        text-align: right;\n",
       "    }\n",
       "</style>\n",
       "<table border=\"1\" class=\"dataframe\">\n",
       "  <thead>\n",
       "    <tr style=\"text-align: right;\">\n",
       "      <th></th>\n",
       "      <th>norm</th>\n",
       "    </tr>\n",
       "  </thead>\n",
       "  <tbody>\n",
       "    <tr>\n",
       "      <th>loc</th>\n",
       "      <td>-0.000385</td>\n",
       "    </tr>\n",
       "    <tr>\n",
       "      <th>scale</th>\n",
       "      <td>0.011819</td>\n",
       "    </tr>\n",
       "  </tbody>\n",
       "</table>\n",
       "</div>"
      ],
      "text/plain": [
       "           norm\n",
       "loc   -0.000385\n",
       "scale  0.011819"
      ]
     },
     "execution_count": 9,
     "metadata": {},
     "output_type": "execute_result"
    }
   ],
   "source": [
    "print(\"\\033[1m\"+\"DataFrame com a distribuição que melhor se ajusta aos dados reais e seus respectivos parâmetros:\")\n",
    "pd.DataFrame(distribuicao_ult_6meses.get_best(method='sumsquare_error'))"
   ]
  },
  {
   "cell_type": "markdown",
   "id": "46d95ef1",
   "metadata": {},
   "source": [
    "<b>3.7. DISTRIBUIÇÃO DE PROBABILIDADE DO RETORNO DIÁRIO DO IBOVESPA - PERÍODO: ÚLTIMOS 12 MESES <a id='TOPICO_37'></a>"
   ]
  },
  {
   "cell_type": "markdown",
   "id": "b0edf5e4",
   "metadata": {},
   "source": [
    "<b>Passo 1:</b> Calcular e Comparar os valores teóricos das distribuições de probabilidade com os valores reais. <b>OBS:</b> a função \"Fitter\" ordena as distribuições da que mais se ajusta para a que menos se ajusta, com base no \"sumsquare_error\"."
   ]
  },
  {
   "cell_type": "code",
   "execution_count": 10,
   "id": "db7ff328",
   "metadata": {},
   "outputs": [
    {
     "data": {
      "text/html": [
       "<div>\n",
       "<style scoped>\n",
       "    .dataframe tbody tr th:only-of-type {\n",
       "        vertical-align: middle;\n",
       "    }\n",
       "\n",
       "    .dataframe tbody tr th {\n",
       "        vertical-align: top;\n",
       "    }\n",
       "\n",
       "    .dataframe thead th {\n",
       "        text-align: right;\n",
       "    }\n",
       "</style>\n",
       "<table border=\"1\" class=\"dataframe\">\n",
       "  <thead>\n",
       "    <tr style=\"text-align: right;\">\n",
       "      <th></th>\n",
       "      <th>sumsquare_error</th>\n",
       "      <th>aic</th>\n",
       "      <th>bic</th>\n",
       "      <th>kl_div</th>\n",
       "    </tr>\n",
       "  </thead>\n",
       "  <tbody>\n",
       "    <tr>\n",
       "      <th>beta</th>\n",
       "      <td>7594.215723</td>\n",
       "      <td>-382.893482</td>\n",
       "      <td>873.074435</td>\n",
       "      <td>inf</td>\n",
       "    </tr>\n",
       "    <tr>\n",
       "      <th>norm</th>\n",
       "      <td>7747.294887</td>\n",
       "      <td>-399.616896</td>\n",
       "      <td>867.008789</td>\n",
       "      <td>inf</td>\n",
       "    </tr>\n",
       "    <tr>\n",
       "      <th>lognorm</th>\n",
       "      <td>7764.259074</td>\n",
       "      <td>-397.543215</td>\n",
       "      <td>873.070879</td>\n",
       "      <td>inf</td>\n",
       "    </tr>\n",
       "    <tr>\n",
       "      <th>gamma</th>\n",
       "      <td>7914.291826</td>\n",
       "      <td>-399.781027</td>\n",
       "      <td>877.836536</td>\n",
       "      <td>inf</td>\n",
       "    </tr>\n",
       "    <tr>\n",
       "      <th>triang</th>\n",
       "      <td>9161.856021</td>\n",
       "      <td>-462.915475</td>\n",
       "      <td>914.284798</td>\n",
       "      <td>inf</td>\n",
       "    </tr>\n",
       "    <tr>\n",
       "      <th>uniform</th>\n",
       "      <td>19534.920284</td>\n",
       "      <td>-515.577011</td>\n",
       "      <td>1097.298907</td>\n",
       "      <td>inf</td>\n",
       "    </tr>\n",
       "    <tr>\n",
       "      <th>expon</th>\n",
       "      <td>27120.805256</td>\n",
       "      <td>-454.205514</td>\n",
       "      <td>1178.995187</td>\n",
       "      <td>inf</td>\n",
       "    </tr>\n",
       "  </tbody>\n",
       "</table>\n",
       "</div>"
      ],
      "text/plain": [
       "         sumsquare_error         aic          bic  kl_div\n",
       "beta         7594.215723 -382.893482   873.074435     inf\n",
       "norm         7747.294887 -399.616896   867.008789     inf\n",
       "lognorm      7764.259074 -397.543215   873.070879     inf\n",
       "gamma        7914.291826 -399.781027   877.836536     inf\n",
       "triang       9161.856021 -462.915475   914.284798     inf\n",
       "uniform     19534.920284 -515.577011  1097.298907     inf\n",
       "expon       27120.805256 -454.205514  1178.995187     inf"
      ]
     },
     "execution_count": 10,
     "metadata": {},
     "output_type": "execute_result"
    },
    {
     "data": {
      "image/png": "[encoded data removed]",
      "text/plain": [
       "<Figure size 432x288 with 1 Axes>"
      ]
     },
     "metadata": {
      "needs_background": "light"
     },
     "output_type": "display_data"
    }
   ],
   "source": [
    "distribuicao_ult_12meses = Fitter(data=Retorno_12meses, distributions=Lista_Distribuicoes)\n",
    "distribuicao_ult_12meses.fit()\n",
    "distribuicao_ult_12meses.summary(Nbest=7)"
   ]
  },
  {
   "cell_type": "markdown",
   "id": "e6b21973",
   "metadata": {},
   "source": [
    "<b>Passo 2:</b> Encontrar a distribuição de probabilidade que melhor se ajusta aos valores reais."
   ]
  },
  {
   "cell_type": "code",
   "execution_count": 11,
   "id": "ef0a0a90",
   "metadata": {},
   "outputs": [
    {
     "name": "stdout",
     "output_type": "stream",
     "text": [
      "\u001b[1mDataFrame com a distribuição que melhor se ajusta aos dados reais e seus respectivos parâmetros:\n"
     ]
    },
    {
     "data": {
      "text/html": [
       "<div>\n",
       "<style scoped>\n",
       "    .dataframe tbody tr th:only-of-type {\n",
       "        vertical-align: middle;\n",
       "    }\n",
       "\n",
       "    .dataframe tbody tr th {\n",
       "        vertical-align: top;\n",
       "    }\n",
       "\n",
       "    .dataframe thead th {\n",
       "        text-align: right;\n",
       "    }\n",
       "</style>\n",
       "<table border=\"1\" class=\"dataframe\">\n",
       "  <thead>\n",
       "    <tr style=\"text-align: right;\">\n",
       "      <th></th>\n",
       "      <th>beta</th>\n",
       "    </tr>\n",
       "  </thead>\n",
       "  <tbody>\n",
       "    <tr>\n",
       "      <th>a</th>\n",
       "      <td>205.939341</td>\n",
       "    </tr>\n",
       "    <tr>\n",
       "      <th>b</th>\n",
       "      <td>27.575770</td>\n",
       "    </tr>\n",
       "    <tr>\n",
       "      <th>loc</th>\n",
       "      <td>-0.532731</td>\n",
       "    </tr>\n",
       "    <tr>\n",
       "      <th>scale</th>\n",
       "      <td>0.603513</td>\n",
       "    </tr>\n",
       "  </tbody>\n",
       "</table>\n",
       "</div>"
      ],
      "text/plain": [
       "             beta\n",
       "a      205.939341\n",
       "b       27.575770\n",
       "loc     -0.532731\n",
       "scale    0.603513"
      ]
     },
     "execution_count": 11,
     "metadata": {},
     "output_type": "execute_result"
    }
   ],
   "source": [
    "print(\"\\033[1m\"+\"DataFrame com a distribuição que melhor se ajusta aos dados reais e seus respectivos parâmetros:\")\n",
    "pd.DataFrame(distribuicao_ult_12meses.get_best(method='sumsquare_error'))"
   ]
  },
  {
   "cell_type": "markdown",
   "id": "9de8e623",
   "metadata": {},
   "source": [
    "<b>3.8. DISTRIBUIÇÃO DE PROBABILIDADE DO RETORNO DIÁRIO DO IBOVESPA - PERÍODO: ÚLTIMOS 2 ANOS <a id='TOPICO_38'></a>"
   ]
  },
  {
   "cell_type": "markdown",
   "id": "85d894f0",
   "metadata": {},
   "source": [
    "<b>Passo 1:</b> Calcular e Comparar os valores teóricos das distribuições de probabilidade com os valores reais. <b>OBS:</b> a função \"Fitter\" ordena as distribuições da que mais se ajusta para a que menos se ajusta, com base no \"sumsquare_error\"."
   ]
  },
  {
   "cell_type": "code",
   "execution_count": 12,
   "id": "ad955e77",
   "metadata": {},
   "outputs": [
    {
     "data": {
      "text/html": [
       "<div>\n",
       "<style scoped>\n",
       "    .dataframe tbody tr th:only-of-type {\n",
       "        vertical-align: middle;\n",
       "    }\n",
       "\n",
       "    .dataframe tbody tr th {\n",
       "        vertical-align: top;\n",
       "    }\n",
       "\n",
       "    .dataframe thead th {\n",
       "        text-align: right;\n",
       "    }\n",
       "</style>\n",
       "<table border=\"1\" class=\"dataframe\">\n",
       "  <thead>\n",
       "    <tr style=\"text-align: right;\">\n",
       "      <th></th>\n",
       "      <th>sumsquare_error</th>\n",
       "      <th>aic</th>\n",
       "      <th>bic</th>\n",
       "      <th>kl_div</th>\n",
       "    </tr>\n",
       "  </thead>\n",
       "  <tbody>\n",
       "    <tr>\n",
       "      <th>beta</th>\n",
       "      <td>2037.167697</td>\n",
       "      <td>-296.994524</td>\n",
       "      <td>725.123429</td>\n",
       "      <td>inf</td>\n",
       "    </tr>\n",
       "    <tr>\n",
       "      <th>lognorm</th>\n",
       "      <td>2038.296100</td>\n",
       "      <td>-258.078964</td>\n",
       "      <td>719.192980</td>\n",
       "      <td>inf</td>\n",
       "    </tr>\n",
       "    <tr>\n",
       "      <th>norm</th>\n",
       "      <td>2042.717954</td>\n",
       "      <td>-264.789135</td>\n",
       "      <td>714.061106</td>\n",
       "      <td>inf</td>\n",
       "    </tr>\n",
       "    <tr>\n",
       "      <th>gamma</th>\n",
       "      <td>2194.044560</td>\n",
       "      <td>-252.905641</td>\n",
       "      <td>755.641046</td>\n",
       "      <td>inf</td>\n",
       "    </tr>\n",
       "    <tr>\n",
       "      <th>triang</th>\n",
       "      <td>4952.206246</td>\n",
       "      <td>-424.883755</td>\n",
       "      <td>1158.613870</td>\n",
       "      <td>inf</td>\n",
       "    </tr>\n",
       "    <tr>\n",
       "      <th>uniform</th>\n",
       "      <td>14490.581044</td>\n",
       "      <td>-482.477240</td>\n",
       "      <td>1683.873819</td>\n",
       "      <td>inf</td>\n",
       "    </tr>\n",
       "    <tr>\n",
       "      <th>expon</th>\n",
       "      <td>21315.348163</td>\n",
       "      <td>-418.785018</td>\n",
       "      <td>1874.908441</td>\n",
       "      <td>inf</td>\n",
       "    </tr>\n",
       "  </tbody>\n",
       "</table>\n",
       "</div>"
      ],
      "text/plain": [
       "         sumsquare_error         aic          bic  kl_div\n",
       "beta         2037.167697 -296.994524   725.123429     inf\n",
       "lognorm      2038.296100 -258.078964   719.192980     inf\n",
       "norm         2042.717954 -264.789135   714.061106     inf\n",
       "gamma        2194.044560 -252.905641   755.641046     inf\n",
       "triang       4952.206246 -424.883755  1158.613870     inf\n",
       "uniform     14490.581044 -482.477240  1683.873819     inf\n",
       "expon       21315.348163 -418.785018  1874.908441     inf"
      ]
     },
     "execution_count": 12,
     "metadata": {},
     "output_type": "execute_result"
    },
    {
     "data": {
      "image/png": "[encoded data removed]",
      "text/plain": [
       "<Figure size 432x288 with 1 Axes>"
      ]
     },
     "metadata": {
      "needs_background": "light"
     },
     "output_type": "display_data"
    }
   ],
   "source": [
    "distribuicao_ult_2anos = Fitter(data=Retorno_2anos, distributions=Lista_Distribuicoes)\n",
    "distribuicao_ult_2anos.fit()\n",
    "distribuicao_ult_2anos.summary(Nbest=7)"
   ]
  },
  {
   "cell_type": "markdown",
   "id": "28d7537f",
   "metadata": {},
   "source": [
    "<b>Passo 2:</b> Encontrar a distribuição de probabilidade que melhor se ajusta aos valores reais."
   ]
  },
  {
   "cell_type": "code",
   "execution_count": 13,
   "id": "964cb936",
   "metadata": {},
   "outputs": [
    {
     "name": "stdout",
     "output_type": "stream",
     "text": [
      "\u001b[1mDataFrame com a distribuição que melhor se ajusta aos dados reais e seus respectivos parâmetros:\n"
     ]
    },
    {
     "data": {
      "text/html": [
       "<div>\n",
       "<style scoped>\n",
       "    .dataframe tbody tr th:only-of-type {\n",
       "        vertical-align: middle;\n",
       "    }\n",
       "\n",
       "    .dataframe tbody tr th {\n",
       "        vertical-align: top;\n",
       "    }\n",
       "\n",
       "    .dataframe thead th {\n",
       "        text-align: right;\n",
       "    }\n",
       "</style>\n",
       "<table border=\"1\" class=\"dataframe\">\n",
       "  <thead>\n",
       "    <tr style=\"text-align: right;\">\n",
       "      <th></th>\n",
       "      <th>beta</th>\n",
       "    </tr>\n",
       "  </thead>\n",
       "  <tbody>\n",
       "    <tr>\n",
       "      <th>a</th>\n",
       "      <td>6.957199e+06</td>\n",
       "    </tr>\n",
       "    <tr>\n",
       "      <th>b</th>\n",
       "      <td>1.607133e+01</td>\n",
       "    </tr>\n",
       "    <tr>\n",
       "      <th>loc</th>\n",
       "      <td>-2.305202e+04</td>\n",
       "    </tr>\n",
       "    <tr>\n",
       "      <th>scale</th>\n",
       "      <td>2.305207e+04</td>\n",
       "    </tr>\n",
       "  </tbody>\n",
       "</table>\n",
       "</div>"
      ],
      "text/plain": [
       "               beta\n",
       "a      6.957199e+06\n",
       "b      1.607133e+01\n",
       "loc   -2.305202e+04\n",
       "scale  2.305207e+04"
      ]
     },
     "execution_count": 13,
     "metadata": {},
     "output_type": "execute_result"
    }
   ],
   "source": [
    "print(\"\\033[1m\"+\"DataFrame com a distribuição que melhor se ajusta aos dados reais e seus respectivos parâmetros:\")\n",
    "pd.DataFrame(distribuicao_ult_2anos.get_best(method='sumsquare_error'))"
   ]
  },
  {
   "cell_type": "markdown",
   "id": "c2f3e282",
   "metadata": {},
   "source": [
    "<b>3.9. DISTRIBUIÇÃO DE PROBABILIDADE DO RETORNO DIÁRIO DO IBOVESPA - PERÍODO: ÚLTIMOS 5 ANOS <a id='TOPICO_39'></a>"
   ]
  },
  {
   "cell_type": "markdown",
   "id": "2c31a73d",
   "metadata": {},
   "source": [
    "<b>Passo 1:</b> Calcular e Comparar os valores teóricos das distribuições de probabilidade com os valores reais. <b>OBS:</b> a função \"Fitter\" ordena as distribuições da que mais se ajusta para a que menos se ajusta, com base no \"sumsquare_error\"."
   ]
  },
  {
   "cell_type": "code",
   "execution_count": 14,
   "id": "a9d20257",
   "metadata": {},
   "outputs": [
    {
     "data": {
      "text/html": [
       "<div>\n",
       "<style scoped>\n",
       "    .dataframe tbody tr th:only-of-type {\n",
       "        vertical-align: middle;\n",
       "    }\n",
       "\n",
       "    .dataframe tbody tr th {\n",
       "        vertical-align: top;\n",
       "    }\n",
       "\n",
       "    .dataframe thead th {\n",
       "        text-align: right;\n",
       "    }\n",
       "</style>\n",
       "<table border=\"1\" class=\"dataframe\">\n",
       "  <thead>\n",
       "    <tr style=\"text-align: right;\">\n",
       "      <th></th>\n",
       "      <th>sumsquare_error</th>\n",
       "      <th>aic</th>\n",
       "      <th>bic</th>\n",
       "      <th>kl_div</th>\n",
       "    </tr>\n",
       "  </thead>\n",
       "  <tbody>\n",
       "    <tr>\n",
       "      <th>beta</th>\n",
       "      <td>486.439445</td>\n",
       "      <td>1867.775844</td>\n",
       "      <td>-1122.191270</td>\n",
       "      <td>inf</td>\n",
       "    </tr>\n",
       "    <tr>\n",
       "      <th>norm</th>\n",
       "      <td>496.722701</td>\n",
       "      <td>1806.715101</td>\n",
       "      <td>-1110.593339</td>\n",
       "      <td>inf</td>\n",
       "    </tr>\n",
       "    <tr>\n",
       "      <th>lognorm</th>\n",
       "      <td>501.392988</td>\n",
       "      <td>1803.923329</td>\n",
       "      <td>-1091.917041</td>\n",
       "      <td>inf</td>\n",
       "    </tr>\n",
       "    <tr>\n",
       "      <th>triang</th>\n",
       "      <td>4752.499607</td>\n",
       "      <td>-185.075673</td>\n",
       "      <td>1685.642161</td>\n",
       "      <td>inf</td>\n",
       "    </tr>\n",
       "    <tr>\n",
       "      <th>uniform</th>\n",
       "      <td>6390.644241</td>\n",
       "      <td>-245.738993</td>\n",
       "      <td>2044.286332</td>\n",
       "      <td>inf</td>\n",
       "    </tr>\n",
       "    <tr>\n",
       "      <th>expon</th>\n",
       "      <td>7015.162991</td>\n",
       "      <td>-184.258633</td>\n",
       "      <td>2159.436330</td>\n",
       "      <td>inf</td>\n",
       "    </tr>\n",
       "    <tr>\n",
       "      <th>gamma</th>\n",
       "      <td>7483.055113</td>\n",
       "      <td>-61.907759</td>\n",
       "      <td>2246.295646</td>\n",
       "      <td>inf</td>\n",
       "    </tr>\n",
       "  </tbody>\n",
       "</table>\n",
       "</div>"
      ],
      "text/plain": [
       "         sumsquare_error          aic          bic  kl_div\n",
       "beta          486.439445  1867.775844 -1122.191270     inf\n",
       "norm          496.722701  1806.715101 -1110.593339     inf\n",
       "lognorm       501.392988  1803.923329 -1091.917041     inf\n",
       "triang       4752.499607  -185.075673  1685.642161     inf\n",
       "uniform      6390.644241  -245.738993  2044.286332     inf\n",
       "expon        7015.162991  -184.258633  2159.436330     inf\n",
       "gamma        7483.055113   -61.907759  2246.295646     inf"
      ]
     },
     "execution_count": 14,
     "metadata": {},
     "output_type": "execute_result"
    },
    {
     "data": {
      "image/png": "[encoded data removed]",
      "text/plain": [
       "<Figure size 432x288 with 1 Axes>"
      ]
     },
     "metadata": {
      "needs_background": "light"
     },
     "output_type": "display_data"
    }
   ],
   "source": [
    "distribuicao_ult_5anos = Fitter(data=Retorno_5anos, distributions=Lista_Distribuicoes)\n",
    "distribuicao_ult_5anos.fit()\n",
    "distribuicao_ult_5anos.summary(Nbest=7)"
   ]
  },
  {
   "cell_type": "markdown",
   "id": "b61f1b5a",
   "metadata": {},
   "source": [
    "<b>Passo 2:</b> Encontrar a distribuição de probabilidade que melhor se ajusta aos valores reais."
   ]
  },
  {
   "cell_type": "code",
   "execution_count": 15,
   "id": "1356ebae",
   "metadata": {},
   "outputs": [
    {
     "name": "stdout",
     "output_type": "stream",
     "text": [
      "\u001b[1mDataFrame com a distribuição que melhor se ajusta aos dados reais e seus respectivos parâmetros:\n"
     ]
    },
    {
     "data": {
      "text/html": [
       "<div>\n",
       "<style scoped>\n",
       "    .dataframe tbody tr th:only-of-type {\n",
       "        vertical-align: middle;\n",
       "    }\n",
       "\n",
       "    .dataframe tbody tr th {\n",
       "        vertical-align: top;\n",
       "    }\n",
       "\n",
       "    .dataframe thead th {\n",
       "        text-align: right;\n",
       "    }\n",
       "</style>\n",
       "<table border=\"1\" class=\"dataframe\">\n",
       "  <thead>\n",
       "    <tr style=\"text-align: right;\">\n",
       "      <th></th>\n",
       "      <th>beta</th>\n",
       "    </tr>\n",
       "  </thead>\n",
       "  <tbody>\n",
       "    <tr>\n",
       "      <th>a</th>\n",
       "      <td>117231.007373</td>\n",
       "    </tr>\n",
       "    <tr>\n",
       "      <th>b</th>\n",
       "      <td>450.637291</td>\n",
       "    </tr>\n",
       "    <tr>\n",
       "      <th>loc</th>\n",
       "      <td>-92.904572</td>\n",
       "    </tr>\n",
       "    <tr>\n",
       "      <th>scale</th>\n",
       "      <td>93.262209</td>\n",
       "    </tr>\n",
       "  </tbody>\n",
       "</table>\n",
       "</div>"
      ],
      "text/plain": [
       "                beta\n",
       "a      117231.007373\n",
       "b         450.637291\n",
       "loc       -92.904572\n",
       "scale      93.262209"
      ]
     },
     "execution_count": 15,
     "metadata": {},
     "output_type": "execute_result"
    }
   ],
   "source": [
    "print(\"\\033[1m\"+\"DataFrame com a distribuição que melhor se ajusta aos dados reais e seus respectivos parâmetros:\")\n",
    "pd.DataFrame(distribuicao_ult_5anos.get_best(method='sumsquare_error'))"
   ]
  },
  {
   "cell_type": "markdown",
   "id": "d90f3199",
   "metadata": {},
   "source": [
    "<b>3.10. DISTRIBUIÇÃO DE PROBABILIDADE DO RETORNO DIÁRIO DO IBOVESPA - PERÍODO: ÚLTIMOS 10 ANOS <a id='TOPICO_310'></a>"
   ]
  },
  {
   "cell_type": "markdown",
   "id": "75f37e26",
   "metadata": {},
   "source": [
    "<b>Passo 1:</b> Calcular e Comparar os valores teóricos das distribuições de probabilidade com os valores reais. <b>OBS:</b> a função \"Fitter\" ordena as distribuições da que mais se ajusta para a que menos se ajusta, com base no \"sumsquare_error\"."
   ]
  },
  {
   "cell_type": "code",
   "execution_count": 16,
   "id": "d2c82251",
   "metadata": {},
   "outputs": [
    {
     "data": {
      "text/html": [
       "<div>\n",
       "<style scoped>\n",
       "    .dataframe tbody tr th:only-of-type {\n",
       "        vertical-align: middle;\n",
       "    }\n",
       "\n",
       "    .dataframe tbody tr th {\n",
       "        vertical-align: top;\n",
       "    }\n",
       "\n",
       "    .dataframe thead th {\n",
       "        text-align: right;\n",
       "    }\n",
       "</style>\n",
       "<table border=\"1\" class=\"dataframe\">\n",
       "  <thead>\n",
       "    <tr style=\"text-align: right;\">\n",
       "      <th></th>\n",
       "      <th>sumsquare_error</th>\n",
       "      <th>aic</th>\n",
       "      <th>bic</th>\n",
       "      <th>kl_div</th>\n",
       "    </tr>\n",
       "  </thead>\n",
       "  <tbody>\n",
       "    <tr>\n",
       "      <th>lognorm</th>\n",
       "      <td>250.638168</td>\n",
       "      <td>2152.203408</td>\n",
       "      <td>-5631.119868</td>\n",
       "      <td>inf</td>\n",
       "    </tr>\n",
       "    <tr>\n",
       "      <th>beta</th>\n",
       "      <td>251.711062</td>\n",
       "      <td>2166.405599</td>\n",
       "      <td>-5612.752581</td>\n",
       "      <td>inf</td>\n",
       "    </tr>\n",
       "    <tr>\n",
       "      <th>norm</th>\n",
       "      <td>256.241904</td>\n",
       "      <td>2129.143255</td>\n",
       "      <td>-5584.294485</td>\n",
       "      <td>inf</td>\n",
       "    </tr>\n",
       "    <tr>\n",
       "      <th>triang</th>\n",
       "      <td>4554.467657</td>\n",
       "      <td>-184.431702</td>\n",
       "      <td>1534.418366</td>\n",
       "      <td>inf</td>\n",
       "    </tr>\n",
       "    <tr>\n",
       "      <th>uniform</th>\n",
       "      <td>6197.208835</td>\n",
       "      <td>-245.738993</td>\n",
       "      <td>2287.650140</td>\n",
       "      <td>inf</td>\n",
       "    </tr>\n",
       "    <tr>\n",
       "      <th>expon</th>\n",
       "      <td>6822.954076</td>\n",
       "      <td>-184.264388</td>\n",
       "      <td>2525.344338</td>\n",
       "      <td>inf</td>\n",
       "    </tr>\n",
       "    <tr>\n",
       "      <th>gamma</th>\n",
       "      <td>7399.763495</td>\n",
       "      <td>-34.424391</td>\n",
       "      <td>2733.691988</td>\n",
       "      <td>inf</td>\n",
       "    </tr>\n",
       "  </tbody>\n",
       "</table>\n",
       "</div>"
      ],
      "text/plain": [
       "         sumsquare_error          aic          bic  kl_div\n",
       "lognorm       250.638168  2152.203408 -5631.119868     inf\n",
       "beta          251.711062  2166.405599 -5612.752581     inf\n",
       "norm          256.241904  2129.143255 -5584.294485     inf\n",
       "triang       4554.467657  -184.431702  1534.418366     inf\n",
       "uniform      6197.208835  -245.738993  2287.650140     inf\n",
       "expon        6822.954076  -184.264388  2525.344338     inf\n",
       "gamma        7399.763495   -34.424391  2733.691988     inf"
      ]
     },
     "execution_count": 16,
     "metadata": {},
     "output_type": "execute_result"
    },
    {
     "data": {
      "image/png": "[encoded data removed]",
      "text/plain": [
       "<Figure size 432x288 with 1 Axes>"
      ]
     },
     "metadata": {
      "needs_background": "light"
     },
     "output_type": "display_data"
    }
   ],
   "source": [
    "distribuicao_ult_10anos = Fitter(data=Retorno_10anos, distributions=Lista_Distribuicoes)\n",
    "distribuicao_ult_10anos.fit()\n",
    "distribuicao_ult_10anos.summary(Nbest=7)"
   ]
  },
  {
   "cell_type": "markdown",
   "id": "86c067e3",
   "metadata": {},
   "source": [
    "<b>Passo 2:</b> Encontrar a distribuição de probabilidade que melhor se ajusta aos valores reais."
   ]
  },
  {
   "cell_type": "code",
   "execution_count": 17,
   "id": "1e202e5e",
   "metadata": {},
   "outputs": [
    {
     "name": "stdout",
     "output_type": "stream",
     "text": [
      "\u001b[1mDataFrame com a distribuição que melhor se ajusta aos dados reais e seus respectivos parâmetros:\n"
     ]
    },
    {
     "data": {
      "text/html": [
       "<div>\n",
       "<style scoped>\n",
       "    .dataframe tbody tr th:only-of-type {\n",
       "        vertical-align: middle;\n",
       "    }\n",
       "\n",
       "    .dataframe tbody tr th {\n",
       "        vertical-align: top;\n",
       "    }\n",
       "\n",
       "    .dataframe thead th {\n",
       "        text-align: right;\n",
       "    }\n",
       "</style>\n",
       "<table border=\"1\" class=\"dataframe\">\n",
       "  <thead>\n",
       "    <tr style=\"text-align: right;\">\n",
       "      <th></th>\n",
       "      <th>lognorm</th>\n",
       "    </tr>\n",
       "  </thead>\n",
       "  <tbody>\n",
       "    <tr>\n",
       "      <th>loc</th>\n",
       "      <td>-9.331263</td>\n",
       "    </tr>\n",
       "    <tr>\n",
       "      <th>s</th>\n",
       "      <td>0.001683</td>\n",
       "    </tr>\n",
       "    <tr>\n",
       "      <th>scale</th>\n",
       "      <td>9.331642</td>\n",
       "    </tr>\n",
       "  </tbody>\n",
       "</table>\n",
       "</div>"
      ],
      "text/plain": [
       "        lognorm\n",
       "loc   -9.331263\n",
       "s      0.001683\n",
       "scale  9.331642"
      ]
     },
     "execution_count": 17,
     "metadata": {},
     "output_type": "execute_result"
    }
   ],
   "source": [
    "print(\"\\033[1m\"+\"DataFrame com a distribuição que melhor se ajusta aos dados reais e seus respectivos parâmetros:\")\n",
    "pd.DataFrame(distribuicao_ult_10anos.get_best(method='sumsquare_error'))"
   ]
  },
  {
   "cell_type": "markdown",
   "id": "c662c7eb",
   "metadata": {},
   "source": [
    "<b>3.11. DISTRIBUIÇÃO DE PROBABILIDADE DO RETORNO DIÁRIO DO IBOVESPA - PERÍODO: ÚLTIMOS 20 ANOS <a id='TOPICO_311'></a>"
   ]
  },
  {
   "cell_type": "markdown",
   "id": "7c53efa0",
   "metadata": {},
   "source": [
    "<b>Passo 1:</b> Calcular e Comparar os valores teóricos das distribuições de probabilidade com os valores reais. <b>OBS:</b> a função \"Fitter\" ordena as distribuições da que mais se ajusta para a que menos se ajusta, com base no \"sumsquare_error\"."
   ]
  },
  {
   "cell_type": "code",
   "execution_count": 18,
   "id": "cec06e04",
   "metadata": {},
   "outputs": [
    {
     "data": {
      "text/html": [
       "<div>\n",
       "<style scoped>\n",
       "    .dataframe tbody tr th:only-of-type {\n",
       "        vertical-align: middle;\n",
       "    }\n",
       "\n",
       "    .dataframe tbody tr th {\n",
       "        vertical-align: top;\n",
       "    }\n",
       "\n",
       "    .dataframe thead th {\n",
       "        text-align: right;\n",
       "    }\n",
       "</style>\n",
       "<table border=\"1\" class=\"dataframe\">\n",
       "  <thead>\n",
       "    <tr style=\"text-align: right;\">\n",
       "      <th></th>\n",
       "      <th>sumsquare_error</th>\n",
       "      <th>aic</th>\n",
       "      <th>bic</th>\n",
       "      <th>kl_div</th>\n",
       "    </tr>\n",
       "  </thead>\n",
       "  <tbody>\n",
       "    <tr>\n",
       "      <th>beta</th>\n",
       "      <td>254.237426</td>\n",
       "      <td>1775.235492</td>\n",
       "      <td>-14646.028460</td>\n",
       "      <td>inf</td>\n",
       "    </tr>\n",
       "    <tr>\n",
       "      <th>lognorm</th>\n",
       "      <td>254.590291</td>\n",
       "      <td>1778.629794</td>\n",
       "      <td>-14647.674831</td>\n",
       "      <td>inf</td>\n",
       "    </tr>\n",
       "    <tr>\n",
       "      <th>norm</th>\n",
       "      <td>255.294035</td>\n",
       "      <td>1769.995910</td>\n",
       "      <td>-14642.528168</td>\n",
       "      <td>inf</td>\n",
       "    </tr>\n",
       "    <tr>\n",
       "      <th>gamma</th>\n",
       "      <td>278.977166</td>\n",
       "      <td>1807.118754</td>\n",
       "      <td>-14195.242518</td>\n",
       "      <td>inf</td>\n",
       "    </tr>\n",
       "    <tr>\n",
       "      <th>triang</th>\n",
       "      <td>3882.843758</td>\n",
       "      <td>-178.957787</td>\n",
       "      <td>-1171.469167</td>\n",
       "      <td>inf</td>\n",
       "    </tr>\n",
       "    <tr>\n",
       "      <th>uniform</th>\n",
       "      <td>5417.242892</td>\n",
       "      <td>-240.592569</td>\n",
       "      <td>467.137373</td>\n",
       "      <td>inf</td>\n",
       "    </tr>\n",
       "    <tr>\n",
       "      <th>expon</th>\n",
       "      <td>5998.296212</td>\n",
       "      <td>-179.214843</td>\n",
       "      <td>971.077744</td>\n",
       "      <td>inf</td>\n",
       "    </tr>\n",
       "  </tbody>\n",
       "</table>\n",
       "</div>"
      ],
      "text/plain": [
       "         sumsquare_error          aic           bic  kl_div\n",
       "beta          254.237426  1775.235492 -14646.028460     inf\n",
       "lognorm       254.590291  1778.629794 -14647.674831     inf\n",
       "norm          255.294035  1769.995910 -14642.528168     inf\n",
       "gamma         278.977166  1807.118754 -14195.242518     inf\n",
       "triang       3882.843758  -178.957787  -1171.469167     inf\n",
       "uniform      5417.242892  -240.592569    467.137373     inf\n",
       "expon        5998.296212  -179.214843    971.077744     inf"
      ]
     },
     "execution_count": 18,
     "metadata": {},
     "output_type": "execute_result"
    },
    {
     "data": {
      "image/png": "[encoded data removed]",
      "text/plain": [
       "<Figure size 432x288 with 1 Axes>"
      ]
     },
     "metadata": {
      "needs_background": "light"
     },
     "output_type": "display_data"
    }
   ],
   "source": [
    "distribuicao_ult_20anos = Fitter(data=Retorno_20anos, distributions=Lista_Distribuicoes)\n",
    "distribuicao_ult_20anos.fit()\n",
    "distribuicao_ult_20anos.summary(Nbest=7)"
   ]
  },
  {
   "cell_type": "markdown",
   "id": "59355ff9",
   "metadata": {},
   "source": [
    "<b>Passo 2:</b> Encontrar a distribuição de probabilidade que melhor se ajusta aos valores reais."
   ]
  },
  {
   "cell_type": "code",
   "execution_count": 19,
   "id": "aa5b9843",
   "metadata": {},
   "outputs": [
    {
     "name": "stdout",
     "output_type": "stream",
     "text": [
      "\u001b[1mDataFrame com a distribuição que melhor se ajusta aos dados reais e seus respectivos parâmetros:\n"
     ]
    },
    {
     "data": {
      "text/html": [
       "<div>\n",
       "<style scoped>\n",
       "    .dataframe tbody tr th:only-of-type {\n",
       "        vertical-align: middle;\n",
       "    }\n",
       "\n",
       "    .dataframe tbody tr th {\n",
       "        vertical-align: top;\n",
       "    }\n",
       "\n",
       "    .dataframe thead th {\n",
       "        text-align: right;\n",
       "    }\n",
       "</style>\n",
       "<table border=\"1\" class=\"dataframe\">\n",
       "  <thead>\n",
       "    <tr style=\"text-align: right;\">\n",
       "      <th></th>\n",
       "      <th>beta</th>\n",
       "    </tr>\n",
       "  </thead>\n",
       "  <tbody>\n",
       "    <tr>\n",
       "      <th>a</th>\n",
       "      <td>44490.305545</td>\n",
       "    </tr>\n",
       "    <tr>\n",
       "      <th>b</th>\n",
       "      <td>10723.660729</td>\n",
       "    </tr>\n",
       "    <tr>\n",
       "      <th>loc</th>\n",
       "      <td>-8.313197</td>\n",
       "    </tr>\n",
       "    <tr>\n",
       "      <th>scale</th>\n",
       "      <td>10.317745</td>\n",
       "    </tr>\n",
       "  </tbody>\n",
       "</table>\n",
       "</div>"
      ],
      "text/plain": [
       "               beta\n",
       "a      44490.305545\n",
       "b      10723.660729\n",
       "loc       -8.313197\n",
       "scale     10.317745"
      ]
     },
     "execution_count": 19,
     "metadata": {},
     "output_type": "execute_result"
    }
   ],
   "source": [
    "print(\"\\033[1m\"+\"DataFrame com a distribuição que melhor se ajusta aos dados reais e seus respectivos parâmetros:\")\n",
    "pd.DataFrame(distribuicao_ult_20anos.get_best(method='sumsquare_error'))"
   ]
  },
  {
   "cell_type": "markdown",
   "id": "9a264580",
   "metadata": {},
   "source": [
    "# 4. Considerações finais <a id='TOPICO_4'></a>"
   ]
  },
  {
   "cell_type": "markdown",
   "id": "1c6fcf2e",
   "metadata": {},
   "source": [
    "<b>4.1. RELAÇÃO ENTRE O TAMANHO DA AMOSTRA E O AJUSTE DAS DISTRIBUIÇÕES AOS DADOS REAIS <a id='TOPICO_41'></a>"
   ]
  },
  {
   "cell_type": "code",
   "execution_count": 20,
   "id": "72e09b6f",
   "metadata": {},
   "outputs": [],
   "source": [
    "#Criar o DataFrame com os tamanhos da amostra e erros de ajuste das distribuições para cada período\n",
    "dados = {\n",
    "    \"Períodos\": [\"6_meses\",\"12_meses\",\"2_anos\",\"5_anos\",\"10_anos\",\"20_anos\"],\n",
    "    \"Tamanho_Amostra\": [df_Estatisticas[\"Tamanho_Amostra\"][0],df_Estatisticas[\"Tamanho_Amostra\"][1],\n",
    "                        df_Estatisticas[\"Tamanho_Amostra\"][2],df_Estatisticas[\"Tamanho_Amostra\"][3],\n",
    "                        df_Estatisticas[\"Tamanho_Amostra\"][4],df_Estatisticas[\"Tamanho_Amostra\"][5]],\n",
    "    \"Erro_Ajuste\": [distribuicao_ult_6meses.summary(plot=False)[\"sumsquare_error\"][0],\n",
    "                    distribuicao_ult_12meses.summary(plot=False)[\"sumsquare_error\"][0],\n",
    "                    distribuicao_ult_2anos.summary(plot=False)[\"sumsquare_error\"][0],\n",
    "                    distribuicao_ult_5anos.summary(plot=False)[\"sumsquare_error\"][0],\n",
    "                    distribuicao_ult_10anos.summary(plot=False)[\"sumsquare_error\"][0],\n",
    "                    distribuicao_ult_20anos.summary(plot=False)[\"sumsquare_error\"][0]]\n",
    "}\n",
    "df_TamanhoAmostra_vs_Erro = pd.DataFrame(dados)"
   ]
  },
  {
   "cell_type": "code",
   "execution_count": 21,
   "id": "31f83986",
   "metadata": {},
   "outputs": [
    {
     "data": {
      "image/png": "[encoded data removed]",
      "text/plain": [
       "<Figure size 432x288 with 2 Axes>"
      ]
     },
     "metadata": {
      "needs_background": "light"
     },
     "output_type": "display_data"
    }
   ],
   "source": [
    "#Criar gráfico\n",
    "ax = df_TamanhoAmostra_vs_Erro.plot(kind = 'line', x = 'Períodos', y = 'Tamanho_Amostra', color = 'Blue', linewidth = 3)   \n",
    "ax2 = df_TamanhoAmostra_vs_Erro.plot(kind = 'line', x = 'Períodos', y = 'Erro_Ajuste', secondary_y = True, color = 'Red',  \n",
    "                                     linewidth = 3, ax = ax) \n",
    "plt.title(\"Tamanho da Amostra vs. Erro de Ajuste da Distribuição\") \n",
    "ax.set_xlabel('PERÍODO', color = 'black') \n",
    "ax.set_ylabel('TAMANHO DA AMOSTRA', color = \"b\") \n",
    "ax2.set_ylabel('ERRO DE AJUSTE - sumsquare_error', color = 'r') \n",
    "plt.tight_layout()\n",
    "plt.show()"
   ]
  },
  {
   "cell_type": "markdown",
   "id": "cab4c75b",
   "metadata": {},
   "source": [
    "    Para essa comparação considerou-se a distribuição que melhor se ajustou para cada período analisado.\n",
    "    \n",
    "    É possível observar a existência de uma relação inversamente proporcional entre o tamanho da amostra e o erro de ajuste da distribuição aos valores reais.\n",
    "    \n",
    "    A distribuição de probabilidade que melhor se ajustou ao comportamento dos retornos diários do Ibovespa nos últimos 6   meses obteve um alto índice de erro entre os valores teóricos da distribuição e os valores reais. Por outro lado, nos   períodos de 5 anos ou mais, o erro de ajuste dos valores teóricos frente aos valores reais obteve um valor bem menor.\n",
    "    \n",
    "    O fato do erro de ajuste diminuir com o aumento do tamanho da amostra, evidencia o seguinte ponto: quanto menos amostras se tem, maior a incerteza em relação ao comportamento das variáveis ao longo do tempo e/ou ocorrência de eventos."
   ]
  },
  {
   "cell_type": "markdown",
   "id": "4192696b",
   "metadata": {},
   "source": [
    "<b>4.2. RESULTADOS DAS DISTRIBUIÇÕES ENCONTRADAS PARA OS PERÍODOS ANALISADOS <a id='TOPICO_42'></a>"
   ]
  },
  {
   "cell_type": "markdown",
   "id": "f30b11a4",
   "metadata": {},
   "source": [
    "    De forma geral, podemos observar que das distribuições de probabilidade testadas, a Exponencial e a Uniforme são as que possuem os piores ajustes em relação aos valores reais nos diferentes períodos analisados. \n",
    "    \n",
    "    Por outro lado, as distribuições Beta, Normal e Lognormal são as que possuem os melhores ajustes em relação aos valores reais nos diferentes períodos analisados. Dos 6 períodos analisados, a distribuição Beta obteve o melhor ajuste em 5.\n",
    "    \n",
    "    Por que encontrar a distribuição de probabilidade que melhor se ajusta ao comportamento de variáveis de comportamento   aleatório/estocástico? Respondendo com um viés no campo das finanças, essas distribuições de probabilidade podem servir como inputs para modelos (matemáticos, de simulação, entre outros) que possuem o objetivo de suportar um processo de    tomada de decisão mais inteligente."
   ]
  },
  {
   "cell_type": "markdown",
   "id": "97e3d9a8",
   "metadata": {},
   "source": [
    "# Referências <a id='referencias'></a>"
   ]
  },
  {
   "cell_type": "markdown",
   "id": "6b004d87",
   "metadata": {},
   "source": [
    "<b>[Referência 1]</b> https://www.maxwell.vrac.puc-rio.br/colecao.php?strSecao=resultado&nrSeq=15321@1 <a id='referencia1'></a>"
   ]
  },
  {
   "cell_type": "markdown",
   "id": "5cb384c6",
   "metadata": {},
   "source": [
    "<b>[Referência 2]</b> https://www.maxwell.vrac.puc-rio.br/colecao.php?strSecao=resultado&nrSeq=10083@1 <a id='referencia2'></a>"
   ]
  },
  {
   "cell_type": "markdown",
   "id": "572b375a",
   "metadata": {},
   "source": [
    "<b>[Referência 3]</b> https://www.teses.usp.br/teses/disponiveis/96/96132/tde-07022020-101508/publico/GiseleSMontanari_Corrigida.pdf <a id='referencia3'></a>"
   ]
  },
  {
   "cell_type": "markdown",
   "id": "fb744a16",
   "metadata": {},
   "source": [
    "<b>[Referência 4]</b> https://dagshub.com/ThomIves/Probability_and_Statistics_with_Python/src/master/Statistics_with_Python.ipynb <a id='referencia4'></a>"
   ]
  },
  {
   "cell_type": "markdown",
   "id": "84a8478c",
   "metadata": {},
   "source": [
    "<b>[Referência 5]</b> https://hlab.stanford.edu/brian/error_sum_of_squares.html <a id='referencia5'></a>"
   ]
  }
 ],
 "metadata": {
  "kernelspec": {
   "display_name": "py10",
   "language": "python",
   "name": "py10"
  },
  "language_info": {
   "codemirror_mode": {
    "name": "ipython",
    "version": 3
   },
   "file_extension": ".py",
   "mimetype": "text/x-python",
   "name": "python",
   "nbconvert_exporter": "python",
   "pygments_lexer": "ipython3",
   "version": "3.10.0"
  }
 },
 "nbformat": 4,
 "nbformat_minor": 5
}
